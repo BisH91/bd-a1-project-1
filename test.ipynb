{
 "cells": [
  {
   "cell_type": "code",
   "execution_count": 1,
   "metadata": {},
   "outputs": [],
   "source": [
    "import pandas as pd\n",
    "import numpy as np"
   ]
  },
  {
   "cell_type": "code",
   "execution_count": 2,
   "metadata": {},
   "outputs": [],
   "source": [
    "df = pd.read_parquet('twitterdata.parquet')"
   ]
  },
  {
   "cell_type": "code",
   "execution_count": 3,
   "metadata": {},
   "outputs": [
    {
     "data": {
      "text/html": [
       "<div>\n",
       "<style scoped>\n",
       "    .dataframe tbody tr th:only-of-type {\n",
       "        vertical-align: middle;\n",
       "    }\n",
       "\n",
       "    .dataframe tbody tr th {\n",
       "        vertical-align: top;\n",
       "    }\n",
       "\n",
       "    .dataframe thead th {\n",
       "        text-align: right;\n",
       "    }\n",
       "</style>\n",
       "<table border=\"1\" class=\"dataframe\">\n",
       "  <thead>\n",
       "    <tr style=\"text-align: right;\">\n",
       "      <th></th>\n",
       "      <th>text</th>\n",
       "      <th>label</th>\n",
       "    </tr>\n",
       "  </thead>\n",
       "  <tbody>\n",
       "    <tr>\n",
       "      <th>0</th>\n",
       "      <td>i feel awful about it too because it s my job ...</td>\n",
       "      <td>0</td>\n",
       "    </tr>\n",
       "    <tr>\n",
       "      <th>1</th>\n",
       "      <td>im alone i feel awful</td>\n",
       "      <td>0</td>\n",
       "    </tr>\n",
       "    <tr>\n",
       "      <th>2</th>\n",
       "      <td>ive probably mentioned this before but i reall...</td>\n",
       "      <td>1</td>\n",
       "    </tr>\n",
       "    <tr>\n",
       "      <th>3</th>\n",
       "      <td>i was feeling a little low few days back</td>\n",
       "      <td>0</td>\n",
       "    </tr>\n",
       "    <tr>\n",
       "      <th>4</th>\n",
       "      <td>i beleive that i am much more sensitive to oth...</td>\n",
       "      <td>2</td>\n",
       "    </tr>\n",
       "  </tbody>\n",
       "</table>\n",
       "</div>"
      ],
      "text/plain": [
       "                                                text  label\n",
       "0  i feel awful about it too because it s my job ...      0\n",
       "1                              im alone i feel awful      0\n",
       "2  ive probably mentioned this before but i reall...      1\n",
       "3           i was feeling a little low few days back      0\n",
       "4  i beleive that i am much more sensitive to oth...      2"
      ]
     },
     "execution_count": 3,
     "metadata": {},
     "output_type": "execute_result"
    }
   ],
   "source": [
    "df.head()"
   ]
  },
  {
   "cell_type": "code",
   "execution_count": 4,
   "metadata": {},
   "outputs": [
    {
     "data": {
      "text/plain": [
       "(416809, 2)"
      ]
     },
     "execution_count": 4,
     "metadata": {},
     "output_type": "execute_result"
    }
   ],
   "source": [
    "df.shape"
   ]
  },
  {
   "cell_type": "code",
   "execution_count": null,
   "metadata": {},
   "outputs": [],
   "source": [
    "import pandas as pd\n",
    "import eda\n",
    "\n",
    "def preprocess_data(file_path):\n",
    "\n",
    "    df = pd.read_parquet(file_path)\n",
    "\n",
    "    df = df.dropna()\n",
    "    # print(\"Nulls: \")\n",
    "    # print(df.isnull().sum())\n",
    "    print(df.duplicated())\n",
    "    df.drop_duplicates()\n",
    "\n",
    "    e_map = {0: 'sadness', 1: 'joy', 2: 'love', 3: 'anger', 4: 'fear', 5: 'surprise'}\n",
    "    df['emotion'] = df['label'].map(e_map)\n",
    "\n",
    "    df['txt_len'] = df['text'].apply(len)\n",
    "\n",
    "    df = df.drop(columns=['label'])\n",
    "    \n",
    "    bins = [0, 50, 100, float('inf')]  \n",
    "    labels = ['short', 'medium', 'long']\n",
    "    df['lenCat.'] = pd.cut(df['txt_len'], bins=bins, labels=labels)\n",
    "\n",
    "    df.to_csv('res_dpre.csv', index=False)\n",
    "    print(\"Preprocessing complete. Data saved to 'res_dpre.csv'.\")\n",
    "\n",
    "    return 'res_dpre.csv'\n",
    "\n",
    "if __name__ == \"__main__\":\n",
    "  \n",
    "    eda.eda_analysis('res_dpre.csv')\n"
   ]
  },
  {
   "cell_type": "code",
   "execution_count": 11,
   "metadata": {},
   "outputs": [
    {
     "name": "stdout",
     "output_type": "stream",
     "text": [
      "Missing values in each column:\n",
      "text     0\n",
      "label    0\n",
      "dtype: int64\n",
      "Filled missing values in 'text' column.\n"
     ]
    },
    {
     "name": "stderr",
     "output_type": "stream",
     "text": [
      "/tmp/ipykernel_16129/1911696862.py:13: FutureWarning: Series.fillna with 'method' is deprecated and will raise in a future version. Use obj.ffill() or obj.bfill() instead.\n",
      "  df['text'] = df['text'].fillna(method='ffill')\n"
     ]
    },
    {
     "name": "stdout",
     "output_type": "stream",
     "text": [
      "Dropped rows with empty 'text' values.\n",
      "Mapped numeric labels to emotion names.\n",
      "Created 'text_length' feature.\n",
      "Dropped 'label' column.\n",
      "Discretized 'text_length' into categories.\n",
      "Preprocessing complete. Data saved to 'res_dpre.csv'.\n"
     ]
    },
    {
     "data": {
      "text/plain": [
       "'res_dpre.csv'"
      ]
     },
     "execution_count": 11,
     "metadata": {},
     "output_type": "execute_result"
    }
   ],
   "source": [
    "preprocess_data('twitterdata.parquet')"
   ]
  },
  {
   "cell_type": "code",
   "execution_count": 13,
   "metadata": {},
   "outputs": [],
   "source": [
    "df = pd.read_csv('res_dpre.csv')"
   ]
  },
  {
   "cell_type": "code",
   "execution_count": 14,
   "metadata": {},
   "outputs": [
    {
     "data": {
      "text/html": [
       "<div>\n",
       "<style scoped>\n",
       "    .dataframe tbody tr th:only-of-type {\n",
       "        vertical-align: middle;\n",
       "    }\n",
       "\n",
       "    .dataframe tbody tr th {\n",
       "        vertical-align: top;\n",
       "    }\n",
       "\n",
       "    .dataframe thead th {\n",
       "        text-align: right;\n",
       "    }\n",
       "</style>\n",
       "<table border=\"1\" class=\"dataframe\">\n",
       "  <thead>\n",
       "    <tr style=\"text-align: right;\">\n",
       "      <th></th>\n",
       "      <th>text</th>\n",
       "      <th>emotion</th>\n",
       "      <th>text_length</th>\n",
       "      <th>text_length_category</th>\n",
       "    </tr>\n",
       "  </thead>\n",
       "  <tbody>\n",
       "    <tr>\n",
       "      <th>0</th>\n",
       "      <td>i feel awful about it too because it s my job ...</td>\n",
       "      <td>sadness</td>\n",
       "      <td>112</td>\n",
       "      <td>long</td>\n",
       "    </tr>\n",
       "    <tr>\n",
       "      <th>1</th>\n",
       "      <td>im alone i feel awful</td>\n",
       "      <td>sadness</td>\n",
       "      <td>21</td>\n",
       "      <td>short</td>\n",
       "    </tr>\n",
       "    <tr>\n",
       "      <th>2</th>\n",
       "      <td>ive probably mentioned this before but i reall...</td>\n",
       "      <td>joy</td>\n",
       "      <td>152</td>\n",
       "      <td>long</td>\n",
       "    </tr>\n",
       "    <tr>\n",
       "      <th>3</th>\n",
       "      <td>i was feeling a little low few days back</td>\n",
       "      <td>sadness</td>\n",
       "      <td>40</td>\n",
       "      <td>short</td>\n",
       "    </tr>\n",
       "    <tr>\n",
       "      <th>4</th>\n",
       "      <td>i beleive that i am much more sensitive to oth...</td>\n",
       "      <td>love</td>\n",
       "      <td>99</td>\n",
       "      <td>medium</td>\n",
       "    </tr>\n",
       "    <tr>\n",
       "      <th>...</th>\n",
       "      <td>...</td>\n",
       "      <td>...</td>\n",
       "      <td>...</td>\n",
       "      <td>...</td>\n",
       "    </tr>\n",
       "    <tr>\n",
       "      <th>416804</th>\n",
       "      <td>that was what i felt when i was finally accept...</td>\n",
       "      <td>joy</td>\n",
       "      <td>117</td>\n",
       "      <td>long</td>\n",
       "    </tr>\n",
       "    <tr>\n",
       "      <th>416805</th>\n",
       "      <td>i take every day as it comes i m just focussin...</td>\n",
       "      <td>fear</td>\n",
       "      <td>202</td>\n",
       "      <td>long</td>\n",
       "    </tr>\n",
       "    <tr>\n",
       "      <th>416806</th>\n",
       "      <td>i just suddenly feel that everything was fake</td>\n",
       "      <td>sadness</td>\n",
       "      <td>45</td>\n",
       "      <td>short</td>\n",
       "    </tr>\n",
       "    <tr>\n",
       "      <th>416807</th>\n",
       "      <td>im feeling more eager than ever to claw back w...</td>\n",
       "      <td>joy</td>\n",
       "      <td>98</td>\n",
       "      <td>medium</td>\n",
       "    </tr>\n",
       "    <tr>\n",
       "      <th>416808</th>\n",
       "      <td>i give you plenty of attention even when i fee...</td>\n",
       "      <td>sadness</td>\n",
       "      <td>65</td>\n",
       "      <td>medium</td>\n",
       "    </tr>\n",
       "  </tbody>\n",
       "</table>\n",
       "<p>416809 rows × 4 columns</p>\n",
       "</div>"
      ],
      "text/plain": [
       "                                                     text  emotion  \\\n",
       "0       i feel awful about it too because it s my job ...  sadness   \n",
       "1                                   im alone i feel awful  sadness   \n",
       "2       ive probably mentioned this before but i reall...      joy   \n",
       "3                i was feeling a little low few days back  sadness   \n",
       "4       i beleive that i am much more sensitive to oth...     love   \n",
       "...                                                   ...      ...   \n",
       "416804  that was what i felt when i was finally accept...      joy   \n",
       "416805  i take every day as it comes i m just focussin...     fear   \n",
       "416806      i just suddenly feel that everything was fake  sadness   \n",
       "416807  im feeling more eager than ever to claw back w...      joy   \n",
       "416808  i give you plenty of attention even when i fee...  sadness   \n",
       "\n",
       "        text_length text_length_category  \n",
       "0               112                 long  \n",
       "1                21                short  \n",
       "2               152                 long  \n",
       "3                40                short  \n",
       "4                99               medium  \n",
       "...             ...                  ...  \n",
       "416804          117                 long  \n",
       "416805          202                 long  \n",
       "416806           45                short  \n",
       "416807           98               medium  \n",
       "416808           65               medium  \n",
       "\n",
       "[416809 rows x 4 columns]"
      ]
     },
     "execution_count": 14,
     "metadata": {},
     "output_type": "execute_result"
    }
   ],
   "source": [
    "df"
   ]
  },
  {
   "cell_type": "code",
   "execution_count": null,
   "metadata": {},
   "outputs": [],
   "source": [
    "import pandas as pd\n",
    "import vis\n",
    "\n",
    "def eda_analysis(file_path):\n",
    "    df = pd.read_csv(file_path)\n",
    "\n",
    "    insights = [\n",
    "        f\"Total records: {len(df)}\",\n",
    "        f\"Average length of tweets: {df['text'].str.len().mean()}\",\n",
    "        f\"Most common emotion: {df['emotion'].mode()[0]}\"\n",
    "    ]\n",
    "\n",
    "    emotion_counts = df['emotion'].value_counts(normalize=True) * 100\n",
    "    emotion_counts.to_csv('eda-in-4.txt', header=True)\n",
    "\n",
    "    unique_tweets = df['text'].nunique()\n",
    "    insights.append(f\"Unique tweets: {unique_tweets}\")\n",
    "\n",
    "    min_len = df['text'].str.len().min()\n",
    "    max_len = df['text'].str.len().max()\n",
    "    median_len = df['text'].str.len().median()\n",
    "    insights.extend([\n",
    "        f\"Min length of tweet: {min_len}\",\n",
    "        f\"Max length of tweet: {max_len}\",\n",
    "        f\"Median length of tweet: {median_len}\"\n",
    "    ])\n",
    "\n",
    "    for i, insight in enumerate(insights):\n",
    "        with open(f'eda-in-{i+1}.txt', 'w') as f:\n",
    "            f.write(insight)\n",
    "\n",
    "    print(\"EDA done now visualization\")\n",
    "    return 'res_dpre.csv'\n",
    "\n",
    "if __name__ == \"__main__\":\n",
    "\n",
    "    vis.visualize('res_dpre.csv')\n"
   ]
  },
  {
   "cell_type": "code",
   "execution_count": 20,
   "metadata": {},
   "outputs": [],
   "source": [
    "df = pd.read_csv('res_dpre.csv')"
   ]
  },
  {
   "cell_type": "code",
   "execution_count": 21,
   "metadata": {},
   "outputs": [
    {
     "data": {
      "text/html": [
       "<div>\n",
       "<style scoped>\n",
       "    .dataframe tbody tr th:only-of-type {\n",
       "        vertical-align: middle;\n",
       "    }\n",
       "\n",
       "    .dataframe tbody tr th {\n",
       "        vertical-align: top;\n",
       "    }\n",
       "\n",
       "    .dataframe thead th {\n",
       "        text-align: right;\n",
       "    }\n",
       "</style>\n",
       "<table border=\"1\" class=\"dataframe\">\n",
       "  <thead>\n",
       "    <tr style=\"text-align: right;\">\n",
       "      <th></th>\n",
       "      <th>text</th>\n",
       "      <th>emotion</th>\n",
       "      <th>text_length</th>\n",
       "      <th>text_length_category</th>\n",
       "    </tr>\n",
       "  </thead>\n",
       "  <tbody>\n",
       "    <tr>\n",
       "      <th>0</th>\n",
       "      <td>i feel awful about it too because it s my job ...</td>\n",
       "      <td>sadness</td>\n",
       "      <td>112</td>\n",
       "      <td>long</td>\n",
       "    </tr>\n",
       "    <tr>\n",
       "      <th>1</th>\n",
       "      <td>im alone i feel awful</td>\n",
       "      <td>sadness</td>\n",
       "      <td>21</td>\n",
       "      <td>short</td>\n",
       "    </tr>\n",
       "    <tr>\n",
       "      <th>2</th>\n",
       "      <td>ive probably mentioned this before but i reall...</td>\n",
       "      <td>joy</td>\n",
       "      <td>152</td>\n",
       "      <td>long</td>\n",
       "    </tr>\n",
       "    <tr>\n",
       "      <th>3</th>\n",
       "      <td>i was feeling a little low few days back</td>\n",
       "      <td>sadness</td>\n",
       "      <td>40</td>\n",
       "      <td>short</td>\n",
       "    </tr>\n",
       "    <tr>\n",
       "      <th>4</th>\n",
       "      <td>i beleive that i am much more sensitive to oth...</td>\n",
       "      <td>love</td>\n",
       "      <td>99</td>\n",
       "      <td>medium</td>\n",
       "    </tr>\n",
       "    <tr>\n",
       "      <th>...</th>\n",
       "      <td>...</td>\n",
       "      <td>...</td>\n",
       "      <td>...</td>\n",
       "      <td>...</td>\n",
       "    </tr>\n",
       "    <tr>\n",
       "      <th>416804</th>\n",
       "      <td>that was what i felt when i was finally accept...</td>\n",
       "      <td>joy</td>\n",
       "      <td>117</td>\n",
       "      <td>long</td>\n",
       "    </tr>\n",
       "    <tr>\n",
       "      <th>416805</th>\n",
       "      <td>i take every day as it comes i m just focussin...</td>\n",
       "      <td>fear</td>\n",
       "      <td>202</td>\n",
       "      <td>long</td>\n",
       "    </tr>\n",
       "    <tr>\n",
       "      <th>416806</th>\n",
       "      <td>i just suddenly feel that everything was fake</td>\n",
       "      <td>sadness</td>\n",
       "      <td>45</td>\n",
       "      <td>short</td>\n",
       "    </tr>\n",
       "    <tr>\n",
       "      <th>416807</th>\n",
       "      <td>im feeling more eager than ever to claw back w...</td>\n",
       "      <td>joy</td>\n",
       "      <td>98</td>\n",
       "      <td>medium</td>\n",
       "    </tr>\n",
       "    <tr>\n",
       "      <th>416808</th>\n",
       "      <td>i give you plenty of attention even when i fee...</td>\n",
       "      <td>sadness</td>\n",
       "      <td>65</td>\n",
       "      <td>medium</td>\n",
       "    </tr>\n",
       "  </tbody>\n",
       "</table>\n",
       "<p>416809 rows × 4 columns</p>\n",
       "</div>"
      ],
      "text/plain": [
       "                                                     text  emotion  \\\n",
       "0       i feel awful about it too because it s my job ...  sadness   \n",
       "1                                   im alone i feel awful  sadness   \n",
       "2       ive probably mentioned this before but i reall...      joy   \n",
       "3                i was feeling a little low few days back  sadness   \n",
       "4       i beleive that i am much more sensitive to oth...     love   \n",
       "...                                                   ...      ...   \n",
       "416804  that was what i felt when i was finally accept...      joy   \n",
       "416805  i take every day as it comes i m just focussin...     fear   \n",
       "416806      i just suddenly feel that everything was fake  sadness   \n",
       "416807  im feeling more eager than ever to claw back w...      joy   \n",
       "416808  i give you plenty of attention even when i fee...  sadness   \n",
       "\n",
       "        text_length text_length_category  \n",
       "0               112                 long  \n",
       "1                21                short  \n",
       "2               152                 long  \n",
       "3                40                short  \n",
       "4                99               medium  \n",
       "...             ...                  ...  \n",
       "416804          117                 long  \n",
       "416805          202                 long  \n",
       "416806           45                short  \n",
       "416807           98               medium  \n",
       "416808           65               medium  \n",
       "\n",
       "[416809 rows x 4 columns]"
      ]
     },
     "execution_count": 21,
     "metadata": {},
     "output_type": "execute_result"
    }
   ],
   "source": [
    "df"
   ]
  },
  {
   "cell_type": "code",
   "execution_count": 22,
   "metadata": {},
   "outputs": [
    {
     "name": "stdout",
     "output_type": "stream",
     "text": [
      "EDA done now visualization\n"
     ]
    },
    {
     "data": {
      "text/plain": [
       "'res_dpre.csv'"
      ]
     },
     "execution_count": 22,
     "metadata": {},
     "output_type": "execute_result"
    }
   ],
   "source": [
    "eda_analysis('res_dpre.csv')"
   ]
  },
  {
   "cell_type": "code",
   "execution_count": null,
   "metadata": {},
   "outputs": [
    {
     "name": "stderr",
     "output_type": "stream",
     "text": [
      "/tmp/ipykernel_16129/3231720044.py:7: FutureWarning: \n",
      "\n",
      "Passing `palette` without assigning `hue` is deprecated and will be removed in v0.14.0. Assign the `x` variable to `hue` and set `legend=False` for the same effect.\n",
      "\n",
      "  sns.countplot(data=df, x='emotion', palette='Set2')\n"
     ]
    },
    {
     "data": {
      "text/plain": [
       "<AxesSubplot: xlabel='emotion', ylabel='count'>"
      ]
     },
     "execution_count": 29,
     "metadata": {},
     "output_type": "execute_result"
    },
    {
     "data": {
      "image/png": "[encoded data removed]",
      "text/plain": [
       "<Figure size 1000x600 with 1 Axes>"
      ]
     },
     "metadata": {},
     "output_type": "display_data"
    }
   ],
   "source": [
    "import pandas as pd\n",
    "import seaborn as sns\n",
    "import matplotlib.pyplot as plt\n",
    "\n",
    "\n",
    "plt.figure(figsize=(10, 6))\n",
    "sns.countplot(data=df, x='emotion', palette='Set2')"
   ]
  },
  {
   "cell_type": "code",
   "execution_count": 32,
   "metadata": {},
   "outputs": [],
   "source": [
    "from sklearn.cluster import KMeans\n",
    "\n",
    "df = pd.read_csv('res_dpre.csv')\n",
    "kmeans = KMeans(n_clusters=3, random_state=0)\n",
    "df['cluster'] = kmeans.fit_predict(df.select_dtypes(include=[float, int]))\n",
    "\n",
    "# Save cluster counts\n",
    "cluster_counts = df['cluster'].value_counts()"
   ]
  },
  {
   "cell_type": "code",
   "execution_count": null,
   "metadata": {},
   "outputs": [],
   "source": [
    "import pandas as pd\n",
    "from sklearn.cluster import KMeans\n",
    "\n",
    "def run_kmeans(file_path):\n",
    "    df = pd.read_csv(file_path)\n",
    "    kmeans = KMeans(n_clusters=3, random_state=0)\n",
    "    df['cluster'] = kmeans.fit_predict(df.select_dtypes(include=[float, int]))\n",
    "\n",
    "    # Save cluster counts\n",
    "    cluster_counts = df['cluster'].value_counts()\n",
    "    with open('k.txt', 'w') as f:\n",
    "        f.write(str(cluster_counts))\n",
    "\n",
    "    print(\"Modeling complete.\")\n",
    "\n",
    "if __name__ == \"__main__\":\n",
    "    print(\"Pipeline complete.\")\n"
   ]
  },
  {
   "cell_type": "code",
   "execution_count": 34,
   "metadata": {},
   "outputs": [
    {
     "data": {
      "image/png": "[encoded data removed]",
      "text/plain": [
       "<Figure size 1200x800 with 1 Axes>"
      ]
     },
     "metadata": {},
     "output_type": "display_data"
    }
   ],
   "source": [
    "import pandas as pd\n",
    "import seaborn as sns\n",
    "import matplotlib.pyplot as plt\n",
    "from sklearn.cluster import KMeans\n",
    "from sklearn.decomposition import PCA\n",
    "\n",
    "# Load dataset\n",
    "df = pd.read_csv('res_dpre.csv')\n",
    "\n",
    "# Apply K-means clustering with n_clusters=6\n",
    "kmeans = KMeans(n_clusters=6, random_state=0)\n",
    "df['cluster'] = kmeans.fit_predict(df.select_dtypes(include=[float, int]))\n",
    "\n",
    "# Save cluster counts\n",
    "cluster_counts = df['cluster'].value_counts()\n",
    "with open('k.txt', 'w') as f:\n",
    "    f.write(cluster_counts.to_string())\n",
    "\n",
    "# Dimensionality reduction with PCA to visualize in 2D space\n",
    "pca = PCA(n_components=2)\n",
    "df[['pca1', 'pca2']] = pca.fit_transform(df.select_dtypes(include=[float, int]))\n",
    "\n",
    "# Plot with emotions as colors and clusters as shapes\n",
    "plt.figure(figsize=(12, 8))\n",
    "sns.scatterplot(\n",
    "    data=df,\n",
    "    x='pca1', y='pca2',\n",
    "    hue='emotion',          # Color by emotion type\n",
    "    style='cluster',        # Shape by cluster\n",
    "    palette='tab10',        # Adjust color palette as needed\n",
    "    s=70                    # Size of points\n",
    ")\n",
    "\n",
    "# Add titles and labels\n",
    "plt.title(\"Emotion Types and K-means Clustering\")\n",
    "plt.xlabel(\"Principal Component 1\")\n",
    "plt.ylabel(\"Principal Component 2\")\n",
    "plt.legend(title=\"Emotion Types and Clusters\", bbox_to_anchor=(1.05, 1), loc='upper left')\n",
    "plt.savefig('kmeans_emotion_clusters.png')\n",
    "plt.show()\n"
   ]
  },
  {
   "cell_type": "markdown",
   "metadata": {},
   "source": []
  }
 ],
 "metadata": {
  "kernelspec": {
   "display_name": "Python 3",
   "language": "python",
   "name": "python3"
  },
  "language_info": {
   "codemirror_mode": {
    "name": "ipython",
    "version": 3
   },
   "file_extension": ".py",
   "mimetype": "text/x-python",
   "name": "python",
   "nbconvert_exporter": "python",
   "pygments_lexer": "ipython3",
   "version": "3.12.3"
  }
 },
 "nbformat": 4,
 "nbformat_minor": 2
}
